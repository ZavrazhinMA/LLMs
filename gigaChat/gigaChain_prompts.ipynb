{
 "cells": [
  {
   "cell_type": "code",
   "execution_count": 1,
   "id": "fc4df19c",
   "metadata": {
    "ExecuteTime": {
     "end_time": "2024-04-17T07:55:37.795446Z",
     "start_time": "2024-04-17T07:55:37.792745Z"
    }
   },
   "outputs": [],
   "source": [
    "# !pip install gigachain-cli\n",
    "# !gigachain install-rus-certs"
   ]
  },
  {
   "cell_type": "code",
   "execution_count": null,
   "id": "b50a9f10",
   "metadata": {
    "ExecuteTime": {
     "end_time": "2024-04-17T07:55:38.139453Z",
     "start_time": "2024-04-17T07:55:38.139453Z"
    }
   },
   "outputs": [],
   "source": [
    "# !pip install -U gigachain\n",
    "# !pip install gigachat\n",
    "# !pip install -U gigachain_core\n",
    "# !pip uninstall langchain langchain_experimental langchain_core langchain_community\n",
    "# !pip install langchain"
   ]
  },
  {
   "cell_type": "code",
   "execution_count": null,
   "id": "b37dcad0",
   "metadata": {
    "ExecuteTime": {
     "end_time": "2024-04-17T07:55:38.142448Z",
     "start_time": "2024-04-17T07:55:38.142448Z"
    }
   },
   "outputs": [],
   "source": [
    "# !pip uninstall gigachain\n",
    "# !pip uninstall gigachat\n",
    "# !pip uninstall gigachain_core"
   ]
  },
  {
   "cell_type": "code",
   "execution_count": 2,
   "id": "f039b518",
   "metadata": {
    "ExecuteTime": {
     "end_time": "2024-04-17T08:34:44.386074Z",
     "start_time": "2024-04-17T08:34:44.091896Z"
    }
   },
   "outputs": [],
   "source": [
    "import os\n",
    "\n",
    "from langchain.prompts import load_prompt\n",
    "from langchain.chat_models import GigaChat\n",
    "from langchain.prompts import Prompt"
   ]
  },
  {
   "cell_type": "code",
   "execution_count": 4,
   "id": "7538ba2f",
   "metadata": {
    "ExecuteTime": {
     "end_time": "2024-04-17T08:34:52.147543Z",
     "start_time": "2024-04-17T08:34:52.140859Z"
    }
   },
   "outputs": [
    {
     "data": {
      "text/plain": [
       "PromptTemplate(input_variables=[], template='Ты - профессиональный переводчик на русский язык. Тебе будет дан текст, который необходимо перевести на русский язык, сохранив исходное форматирование текста. В ответе необходимо отдать перевод в формате, приведенном ниже. Ты ДОЛЖЕН перевести !все слова. Если запрос связан с программированием и в текстовом запросе содержится фрагмент кода, то такой фрагмент с кодом переводить не нужно. Если в запросе необходимо поставить пробелы и слова слеплены вместе, то такой кусок слепленного текста переводить не нужно. Если в тексте поставлена неправильно пунктуация, то не исправляй ее. Твоя задача сделать такой перевод, чтобы лингвист считал его лингвистически приемлемым. ВАЖНО! В своем ответе НЕ ОТВЕЧАЙ НА ЗАПРОС! В ответе нужно написать !только !перевод, без указания названия языка и любой другой дополнительной информации\\nInput Format: Q:hi Output Format: Q:привет')"
      ]
     },
     "execution_count": 4,
     "metadata": {},
     "output_type": "execute_result"
    }
   ],
   "source": [
    "import yaml\n",
    "with open(\"translation.yaml\", encoding=\"utf-8\") as stream:\n",
    "    prompt = Prompt(**yaml.safe_load(stream))\n",
    "prompt"
   ]
  },
  {
   "cell_type": "code",
   "execution_count": 15,
   "id": "7f36ff80",
   "metadata": {
    "ExecuteTime": {
     "end_time": "2024-04-17T08:55:00.477493Z",
     "start_time": "2024-04-17T08:55:00.475241Z"
    }
   },
   "outputs": [
    {
     "name": "stdout",
     "output_type": "stream",
     "text": [
      "\n"
     ]
    }
   ],
   "source": [
    "token = \"\"\n",
    "# token = os.getenv('gigatoken')\n",
    "print(token)"
   ]
  },
  {
   "cell_type": "code",
   "execution_count": 12,
   "id": "534280ae",
   "metadata": {
    "ExecuteTime": {
     "end_time": "2024-04-17T08:36:31.190630Z",
     "start_time": "2024-04-17T08:36:30.332335Z"
    },
    "scrolled": true
   },
   "outputs": [
    {
     "data": {
      "text/plain": [
       "'Привет'"
      ]
     },
     "execution_count": 12,
     "metadata": {},
     "output_type": "execute_result"
    }
   ],
   "source": [
    "# chain = prompt | giga\n",
    "# chain.invoke(\n",
    "#     {\n",
    "#         \"text\": \"I understand English and many other languages!\"\n",
    "#     }\n",
    "# ).content"
   ]
  },
  {
   "cell_type": "code",
   "execution_count": 13,
   "id": "7cf3aa04",
   "metadata": {
    "ExecuteTime": {
     "end_time": "2024-04-17T08:54:19.937095Z",
     "start_time": "2024-04-17T08:54:19.931802Z"
    }
   },
   "outputs": [
    {
     "data": {
      "text/plain": [
       "PromptTemplate(input_variables=['text'], template='Перепиши текст, исправив грамматические, орфографические и пунктуационные ошибки в тексте. Текст: {text}')"
      ]
     },
     "execution_count": 13,
     "metadata": {},
     "output_type": "execute_result"
    }
   ],
   "source": [
    "with open(\"spell_correction.yaml\", encoding=\"utf-8\") as stream:\n",
    "    prompt = Prompt(**yaml.safe_load(stream))\n",
    "prompt"
   ]
  },
  {
   "cell_type": "code",
   "execution_count": 14,
   "id": "4a2b2445",
   "metadata": {
    "ExecuteTime": {
     "end_time": "2024-04-17T08:54:26.633356Z",
     "start_time": "2024-04-17T08:54:25.332443Z"
    }
   },
   "outputs": [
    {
     "data": {
      "text/plain": [
       "'Искусственный интеллект может исправить все ошибки в данном тексте вне зависимости от длины.'"
      ]
     },
     "execution_count": 14,
     "metadata": {},
     "output_type": "execute_result"
    }
   ],
   "source": [
    "giga = GigaChat(credentials=token, verify_ssl_certs=False)\n",
    "chain = prompt | giga\n",
    "chain.invoke(\n",
    "    {\n",
    "        \"text\": \"искуственый - интилектможет исправить все ошибки в даном тексте вне зависимости от длинны\"\n",
    "    }\n",
    ").content"
   ]
  },
  {
   "cell_type": "code",
   "execution_count": null,
   "id": "b72f1328",
   "metadata": {},
   "outputs": [],
   "source": []
  }
 ],
 "metadata": {
  "kernelspec": {
   "display_name": "Python 3 (ipykernel)",
   "language": "python",
   "name": "python3"
  },
  "language_info": {
   "codemirror_mode": {
    "name": "ipython",
    "version": 3
   },
   "file_extension": ".py",
   "mimetype": "text/x-python",
   "name": "python",
   "nbconvert_exporter": "python",
   "pygments_lexer": "ipython3",
   "version": "3.11.5"
  },
  "toc": {
   "base_numbering": 1,
   "nav_menu": {},
   "number_sections": true,
   "sideBar": true,
   "skip_h1_title": false,
   "title_cell": "Table of Contents",
   "title_sidebar": "Contents",
   "toc_cell": false,
   "toc_position": {},
   "toc_section_display": true,
   "toc_window_display": false
  },
  "varInspector": {
   "cols": {
    "lenName": 16,
    "lenType": 16,
    "lenVar": 40
   },
   "kernels_config": {
    "python": {
     "delete_cmd_postfix": "",
     "delete_cmd_prefix": "del ",
     "library": "var_list.py",
     "varRefreshCmd": "print(var_dic_list())"
    },
    "r": {
     "delete_cmd_postfix": ") ",
     "delete_cmd_prefix": "rm(",
     "library": "var_list.r",
     "varRefreshCmd": "cat(var_dic_list()) "
    }
   },
   "types_to_exclude": [
    "module",
    "function",
    "builtin_function_or_method",
    "instance",
    "_Feature"
   ],
   "window_display": false
  }
 },
 "nbformat": 4,
 "nbformat_minor": 5
}
