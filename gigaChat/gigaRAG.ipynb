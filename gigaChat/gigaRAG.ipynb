{
 "cells": [
  {
   "cell_type": "code",
   "execution_count": 7,
   "id": "9627ab77",
   "metadata": {
    "ExecuteTime": {
     "end_time": "2024-04-17T14:35:56.447453Z",
     "start_time": "2024-04-17T14:35:56.428064Z"
    }
   },
   "outputs": [],
   "source": [
    "from langchain.chat_models.gigachat import GigaChat\n",
    "from langchain.schema import HumanMessage\n",
    "from langchain.document_loaders import TextLoader\n",
    "from langchain.text_splitter import (\n",
    "    RecursiveCharacterTextSplitter,\n",
    ")"
   ]
  },
  {
   "cell_type": "code",
   "execution_count": 3,
   "id": "8c5c225d",
   "metadata": {
    "ExecuteTime": {
     "end_time": "2024-04-17T14:22:04.048988Z",
     "start_time": "2024-04-17T14:22:04.046062Z"
    }
   },
   "outputs": [],
   "source": [
    "token=\"NzQ4YzUyZjItYTQ0ZC00NDFlLWI0MTEtYzBkOTNmY2I1ZmUyOmI1YTY4NjAyLWVlNWEtNDI4Ni1iZjEwLWRiMTRiN2JmOTEzMA==\""
   ]
  },
  {
   "cell_type": "code",
   "execution_count": 4,
   "id": "bf65a823",
   "metadata": {
    "ExecuteTime": {
     "end_time": "2024-04-17T14:22:04.824911Z",
     "start_time": "2024-04-17T14:22:04.638154Z"
    }
   },
   "outputs": [],
   "source": [
    "giga = GigaChat(credentials=token, verify_ssl_certs=False)"
   ]
  },
  {
   "cell_type": "code",
   "execution_count": 6,
   "id": "5402bebb",
   "metadata": {
    "ExecuteTime": {
     "end_time": "2024-04-17T14:22:27.686059Z",
     "start_time": "2024-04-17T14:22:24.678294Z"
    }
   },
   "outputs": [
    {
     "name": "stderr",
     "output_type": "stream",
     "text": [
      "C:\\Users\\MAKSIM\\anaconda3\\Lib\\site-packages\\langchain_core\\_api\\deprecation.py:117: LangChainDeprecationWarning: The function `__call__` was deprecated in LangChain 0.1.7 and will be removed in 0.2.0. Use invoke instead.\n",
      "  warn_deprecated(\n"
     ]
    },
    {
     "data": {
      "text/plain": [
       "'Понтий Пилат, римский прокуратор Иудеи, носил плащ, который назывался \"тога\". Тога была традиционной одеждой римлян и представляла собой длинное прямоугольное полотно ткани, которое оборачивалось вокр'"
      ]
     },
     "execution_count": 6,
     "metadata": {},
     "output_type": "execute_result"
    }
   ],
   "source": [
    "question = \"Какой плащ был у Понтия Пилата?\"\n",
    "giga([HumanMessage(content=question)]).content[0:200]"
   ]
  },
  {
   "cell_type": "code",
   "execution_count": 10,
   "id": "6947e461",
   "metadata": {
    "ExecuteTime": {
     "end_time": "2024-04-17T14:37:02.427680Z",
     "start_time": "2024-04-17T14:37:02.421114Z"
    }
   },
   "outputs": [
    {
     "name": "stdout",
     "output_type": "stream",
     "text": [
      "Total documents: 91\n"
     ]
    }
   ],
   "source": [
    "loader = TextLoader(\"мастер_и_маргарита.txt\", encoding=\"utf-8\")\n",
    "documents = loader.load()\n",
    "text_splitter = RecursiveCharacterTextSplitter(\n",
    "    chunk_size=1000,\n",
    "    chunk_overlap=200,\n",
    ")\n",
    "documents = text_splitter.split_documents(documents)\n",
    "print(f\"Total documents: {len(documents)}\")"
   ]
  },
  {
   "cell_type": "code",
   "execution_count": 35,
   "id": "276e09fe",
   "metadata": {
    "ExecuteTime": {
     "end_time": "2024-04-17T14:56:13.515300Z",
     "start_time": "2024-04-17T14:55:40.194512Z"
    }
   },
   "outputs": [],
   "source": [
    "from chromadb.config import Settings\n",
    "from langchain.vectorstores import Chroma\n",
    "from langchain_community.embeddings.gigachat import GigaChatEmbeddings\n",
    "# from langchain_community.embeddings.gpt4all import GPT4AllEmbeddings\n",
    "# embeddings = GPT4AllEmbeddings()\n",
    "embeddings = GigaChatEmbeddings(credentials=\"...\")\n",
    "\n",
    "db = Chroma.from_documents(\n",
    "    documents,\n",
    "    embeddings,\n",
    "    client_settings=Settings(anonymized_telemetry=False),\n",
    ")"
   ]
  },
  {
   "cell_type": "code",
   "execution_count": 52,
   "id": "c27420df",
   "metadata": {
    "ExecuteTime": {
     "end_time": "2024-04-17T14:57:08.525619Z",
     "start_time": "2024-04-17T14:57:08.508285Z"
    }
   },
   "outputs": [
    {
     "data": {
      "text/plain": [
       "182"
      ]
     },
     "execution_count": 52,
     "metadata": {},
     "output_type": "execute_result"
    }
   ],
   "source": [
    "docs = db.similarity_search(question, k=4)\n",
    "len(docs)"
   ]
  },
  {
   "cell_type": "code",
   "execution_count": 53,
   "id": "697d0410",
   "metadata": {
    "ExecuteTime": {
     "end_time": "2024-04-17T14:57:08.870789Z",
     "start_time": "2024-04-17T14:57:08.867837Z"
    }
   },
   "outputs": [],
   "source": [
    "from langchain.chains import RetrievalQA\n",
    "\n",
    "qa_chain = RetrievalQA.from_chain_type(giga, retriever=db.as_retriever())"
   ]
  },
  {
   "cell_type": "code",
   "execution_count": 54,
   "id": "dabac5d2",
   "metadata": {
    "ExecuteTime": {
     "end_time": "2024-04-17T14:57:10.773744Z",
     "start_time": "2024-04-17T14:57:09.523514Z"
    }
   },
   "outputs": [
    {
     "data": {
      "text/plain": [
       "{'query': 'Какой плащ был у Понтия Пилата?',\n",
       " 'result': 'Извините, но в предоставленном контексте нет информации о плаще Понтия Пилата.'}"
      ]
     },
     "execution_count": 54,
     "metadata": {},
     "output_type": "execute_result"
    }
   ],
   "source": [
    "qa_chain({\"query\": question})"
   ]
  },
  {
   "cell_type": "code",
   "execution_count": null,
   "id": "0f7a4eb8",
   "metadata": {},
   "outputs": [],
   "source": [
    "qa_chain({\"query\": \"Какая трость была у Воланда?\"})"
   ]
  },
  {
   "cell_type": "code",
   "execution_count": null,
   "id": "3b18dd26",
   "metadata": {},
   "outputs": [],
   "source": [
    "qa_chain({\"query\": \"В чем главная проблема человека?\"})"
   ]
  }
 ],
 "metadata": {
  "kernelspec": {
   "display_name": "Python 3 (ipykernel)",
   "language": "python",
   "name": "python3"
  },
  "language_info": {
   "codemirror_mode": {
    "name": "ipython",
    "version": 3
   },
   "file_extension": ".py",
   "mimetype": "text/x-python",
   "name": "python",
   "nbconvert_exporter": "python",
   "pygments_lexer": "ipython3",
   "version": "3.11.5"
  },
  "toc": {
   "base_numbering": 1,
   "nav_menu": {},
   "number_sections": true,
   "sideBar": true,
   "skip_h1_title": false,
   "title_cell": "Table of Contents",
   "title_sidebar": "Contents",
   "toc_cell": false,
   "toc_position": {},
   "toc_section_display": true,
   "toc_window_display": false
  },
  "varInspector": {
   "cols": {
    "lenName": 16,
    "lenType": 16,
    "lenVar": 40
   },
   "kernels_config": {
    "python": {
     "delete_cmd_postfix": "",
     "delete_cmd_prefix": "del ",
     "library": "var_list.py",
     "varRefreshCmd": "print(var_dic_list())"
    },
    "r": {
     "delete_cmd_postfix": ") ",
     "delete_cmd_prefix": "rm(",
     "library": "var_list.r",
     "varRefreshCmd": "cat(var_dic_list()) "
    }
   },
   "types_to_exclude": [
    "module",
    "function",
    "builtin_function_or_method",
    "instance",
    "_Feature"
   ],
   "window_display": false
  }
 },
 "nbformat": 4,
 "nbformat_minor": 5
}
