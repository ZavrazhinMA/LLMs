{
 "cells": [
  {
   "cell_type": "code",
   "execution_count": 21,
   "id": "1c188fc5",
   "metadata": {
    "ExecuteTime": {
     "end_time": "2024-04-15T12:15:06.225609Z",
     "start_time": "2024-04-15T12:15:06.223294Z"
    }
   },
   "outputs": [],
   "source": [
    "# https://www.kaggle.com/code/gpreda/rag-using-llama-2-langchain-and-chromadb"
   ]
  },
  {
   "cell_type": "code",
   "execution_count": 33,
   "id": "0eb94810",
   "metadata": {
    "ExecuteTime": {
     "end_time": "2024-04-15T12:21:55.344284Z",
     "start_time": "2024-04-15T12:21:55.096089Z"
    }
   },
   "outputs": [],
   "source": [
    "from torch import cuda, bfloat16\n",
    "import torch\n",
    "import transformers\n",
    "from transformers import AutoTokenizer\n",
    "from time import time\n",
    "#import chromadb\n",
    "#from chromadb.config import Settings\n",
    "from langchain.llms import HuggingFacePipeline\n",
    "from langchain.document_loaders import TextLoader\n",
    "from langchain.text_splitter import RecursiveCharacterTextSplitter\n",
    "from langchain.embeddings import HuggingFaceEmbeddings\n",
    "from langchain.chains import RetrievalQA\n",
    "from langchain.vectorstores import Chroma"
   ]
  },
  {
   "cell_type": "code",
   "execution_count": 5,
   "id": "8ae5ee62",
   "metadata": {
    "ExecuteTime": {
     "end_time": "2024-04-15T11:41:23.850472Z",
     "start_time": "2024-04-15T11:41:23.159823Z"
    }
   },
   "outputs": [],
   "source": [
    "# Загрузка доукментов\n",
    "loader = WebBaseLoader(\"https://lilianweng.github.io/posts/2023-06-23-agent/\")\n",
    "data = loader.load()\n",
    "# Разбиение доукментов\n",
    "text_splitter = RecursiveCharacterTextSplitter(chunk_size=500, chunk_overlap=0)\n",
    "all_splits = text_splitter.split_documents(data)"
   ]
  },
  {
   "cell_type": "code",
   "execution_count": null,
   "id": "4164e268",
   "metadata": {
    "ExecuteTime": {
     "end_time": "2024-04-15T11:41:31.765484Z",
     "start_time": "2024-04-15T11:41:31.765484Z"
    }
   },
   "outputs": [],
   "source": [
    "question = \"What are the approaches to Task Decomposition?\"\n",
    "docs = vectorstore.similarity_search(question)\n",
    "len(docs)"
   ]
  },
  {
   "cell_type": "code",
   "execution_count": null,
   "id": "954faf3b",
   "metadata": {
    "ExecuteTime": {
     "end_time": "2024-04-15T11:41:31.767477Z",
     "start_time": "2024-04-15T11:41:31.767477Z"
    }
   },
   "outputs": [],
   "source": [
    "docs[0]"
   ]
  },
  {
   "cell_type": "code",
   "execution_count": null,
   "id": "2ef991e4",
   "metadata": {
    "ExecuteTime": {
     "end_time": "2024-04-15T12:11:43.686443Z",
     "start_time": "2024-04-15T12:07:35.632395Z"
    }
   },
   "outputs": [],
   "source": [
    "model_path = \"TinyLlama/TinyLlama-1.1B-intermediate-step-1431k-3T\"\n",
    "model = transformers.AutoModelForCausalLM.from_pretrained(\n",
    "    model_path,\n",
    "    trust_remote_code=True,\n",
    "    device_map='auto',\n",
    ")"
   ]
  },
  {
   "cell_type": "code",
   "execution_count": 17,
   "id": "60ae3f67",
   "metadata": {
    "ExecuteTime": {
     "end_time": "2024-04-15T12:13:44.257252Z",
     "start_time": "2024-04-15T12:13:41.274043Z"
    }
   },
   "outputs": [
    {
     "data": {
      "application/vnd.jupyter.widget-view+json": {
       "model_id": "e21228e7070f45008d69138d338e3510",
       "version_major": 2,
       "version_minor": 0
      },
      "text/plain": [
       "tokenizer_config.json:   0%|          | 0.00/776 [00:00<?, ?B/s]"
      ]
     },
     "metadata": {},
     "output_type": "display_data"
    },
    {
     "data": {
      "application/vnd.jupyter.widget-view+json": {
       "model_id": "75b77f38922042098c7940e803c5e63e",
       "version_major": 2,
       "version_minor": 0
      },
      "text/plain": [
       "tokenizer.model:   0%|          | 0.00/500k [00:00<?, ?B/s]"
      ]
     },
     "metadata": {},
     "output_type": "display_data"
    },
    {
     "data": {
      "application/vnd.jupyter.widget-view+json": {
       "model_id": "9dac751d95024dd3bee9924ee310efac",
       "version_major": 2,
       "version_minor": 0
      },
      "text/plain": [
       "tokenizer.json:   0%|          | 0.00/1.84M [00:00<?, ?B/s]"
      ]
     },
     "metadata": {},
     "output_type": "display_data"
    },
    {
     "data": {
      "application/vnd.jupyter.widget-view+json": {
       "model_id": "348133211e3a47faa82f4828272a7c2d",
       "version_major": 2,
       "version_minor": 0
      },
      "text/plain": [
       "special_tokens_map.json:   0%|          | 0.00/414 [00:00<?, ?B/s]"
      ]
     },
     "metadata": {},
     "output_type": "display_data"
    }
   ],
   "source": [
    "tokenizer = transformers.AutoTokenizer.from_pretrained(model_path)"
   ]
  },
  {
   "cell_type": "code",
   "execution_count": 20,
   "id": "60acdb8e",
   "metadata": {
    "ExecuteTime": {
     "end_time": "2024-04-15T12:14:18.629327Z",
     "start_time": "2024-04-15T12:14:18.625065Z"
    }
   },
   "outputs": [],
   "source": [
    "query_pipeline = transformers.pipeline(\n",
    "        \"text-generation\",\n",
    "        model=model,\n",
    "        tokenizer=tokenizer,\n",
    "        torch_dtype=torch.float16,\n",
    "        device_map=\"auto\",)"
   ]
  },
  {
   "cell_type": "code",
   "execution_count": 31,
   "id": "a114716e",
   "metadata": {
    "ExecuteTime": {
     "end_time": "2024-04-15T12:18:27.611699Z",
     "start_time": "2024-04-15T12:18:27.608628Z"
    }
   },
   "outputs": [],
   "source": [
    "def test_model(tokenizer, pipeline, prompt_to_test):\n",
    "\n",
    "    # adapted from https://huggingface.co/blog/llama2#using-transformers\n",
    "    time_1 = time()\n",
    "    sequences = pipeline(\n",
    "        prompt_to_test,\n",
    "        do_sample=True,\n",
    "        top_k=10,\n",
    "        num_return_sequences=1,\n",
    "        eos_token_id=tokenizer.eos_token_id,\n",
    "        truncation=True,\n",
    "        max_length=200)\n",
    "    time_2 = time()\n",
    "    print(f\"Test inference: {round(time_2-time_1, 3)} sec.\")\n",
    "    for seq in sequences:\n",
    "        print(f\"Result: {seq['generated_text']}\")"
   ]
  },
  {
   "cell_type": "code",
   "execution_count": 32,
   "id": "21971e35",
   "metadata": {
    "ExecuteTime": {
     "end_time": "2024-04-15T12:18:31.810884Z",
     "start_time": "2024-04-15T12:18:28.143211Z"
    }
   },
   "outputs": [
    {
     "name": "stdout",
     "output_type": "stream",
     "text": [
      "Test inference: 3.665 sec.\n",
      "Result: Please explain what is the State of the Union address. Give just a definition. Keep it in 20 words.\n",
      "What's the difference between the State of the Union, the State of the Union Address, the National Address (the State of the Union Message), the State of Address, and the State of the Union (the National Address)?\n",
      "How many times is the President's State of the Union address?\n",
      "The President speaks once a year.\n",
      "Where do we find the State of the Union addresses?\n",
      "There is a State of the Union Address each year at the beginning (or beginning of each) new congress (Congresses in the U.S. are divided into two chambers, the U.S. Senate and the U.S. House of Representatives).\n",
      "Why do they call it the State of the Union address?\n",
      "The State of the Union Address is given every year at the beginning of a new congress. The first\n"
     ]
    }
   ],
   "source": [
    "test_model(tokenizer,\n",
    "           query_pipeline,\n",
    "           \"Please explain what is the State of the Union address. Give just a definition. Keep it in 20 words.\")"
   ]
  },
  {
   "cell_type": "code",
   "execution_count": 35,
   "id": "c414162a",
   "metadata": {
    "ExecuteTime": {
     "end_time": "2024-04-15T12:45:19.554258Z",
     "start_time": "2024-04-15T12:45:19.551695Z"
    }
   },
   "outputs": [],
   "source": [
    "from langchain_community.embeddings import GPT4AllEmbeddings"
   ]
  },
  {
   "cell_type": "code",
   "execution_count": 36,
   "id": "bc34d3a9",
   "metadata": {
    "ExecuteTime": {
     "end_time": "2024-04-15T12:46:54.300130Z",
     "start_time": "2024-04-15T12:46:48.583256Z"
    }
   },
   "outputs": [],
   "source": [
    "vectordb = Chroma.from_documents(documents=all_splits, embedding=GPT4AllEmbeddings(), persist_directory=\"chroma_db\")"
   ]
  },
  {
   "cell_type": "code",
   "execution_count": 37,
   "id": "06bd7eb2",
   "metadata": {
    "ExecuteTime": {
     "end_time": "2024-04-15T12:47:20.528507Z",
     "start_time": "2024-04-15T12:47:20.512254Z"
    }
   },
   "outputs": [
    {
     "data": {
      "text/plain": [
       "4"
      ]
     },
     "execution_count": 37,
     "metadata": {},
     "output_type": "execute_result"
    }
   ],
   "source": [
    "question = \"What are the approaches to Task Decomposition?\"\n",
    "docs = vectordb.similarity_search(question)\n",
    "len(docs)"
   ]
  },
  {
   "cell_type": "code",
   "execution_count": 38,
   "id": "80e12d7f",
   "metadata": {
    "ExecuteTime": {
     "end_time": "2024-04-15T12:50:32.388279Z",
     "start_time": "2024-04-15T12:50:32.384114Z"
    }
   },
   "outputs": [],
   "source": [
    "llm = HuggingFacePipeline(pipeline=query_pipeline)"
   ]
  },
  {
   "cell_type": "code",
   "execution_count": 39,
   "id": "bcceabfd",
   "metadata": {
    "ExecuteTime": {
     "end_time": "2024-04-15T12:51:34.907382Z",
     "start_time": "2024-04-15T12:51:34.903345Z"
    }
   },
   "outputs": [],
   "source": [
    "retriever = vectordb.as_retriever()\n",
    "\n",
    "qa = RetrievalQA.from_chain_type(\n",
    "    llm=llm, \n",
    "    chain_type=\"stuff\", \n",
    "    retriever=retriever, \n",
    "    verbose=True\n",
    ")"
   ]
  },
  {
   "cell_type": "code",
   "execution_count": 40,
   "id": "ecea6f93",
   "metadata": {
    "ExecuteTime": {
     "end_time": "2024-04-15T13:05:01.573823Z",
     "start_time": "2024-04-15T13:05:01.570809Z"
    }
   },
   "outputs": [],
   "source": [
    "question = \"What are the approaches to Task Decomposition?\""
   ]
  },
  {
   "cell_type": "code",
   "execution_count": 43,
   "id": "d24f815c",
   "metadata": {
    "ExecuteTime": {
     "end_time": "2024-04-15T13:10:04.957238Z",
     "start_time": "2024-04-15T13:10:04.954219Z"
    }
   },
   "outputs": [],
   "source": [
    "# qa.invoke(question)"
   ]
  },
  {
   "cell_type": "code",
   "execution_count": null,
   "id": "eb930fb5",
   "metadata": {},
   "outputs": [],
   "source": []
  }
 ],
 "metadata": {
  "kernelspec": {
   "display_name": "Python 3 (ipykernel)",
   "language": "python",
   "name": "python3"
  },
  "language_info": {
   "codemirror_mode": {
    "name": "ipython",
    "version": 3
   },
   "file_extension": ".py",
   "mimetype": "text/x-python",
   "name": "python",
   "nbconvert_exporter": "python",
   "pygments_lexer": "ipython3",
   "version": "3.11.5"
  },
  "toc": {
   "base_numbering": 1,
   "nav_menu": {},
   "number_sections": true,
   "sideBar": true,
   "skip_h1_title": false,
   "title_cell": "Table of Contents",
   "title_sidebar": "Contents",
   "toc_cell": false,
   "toc_position": {},
   "toc_section_display": true,
   "toc_window_display": false
  },
  "varInspector": {
   "cols": {
    "lenName": 16,
    "lenType": 16,
    "lenVar": 40
   },
   "kernels_config": {
    "python": {
     "delete_cmd_postfix": "",
     "delete_cmd_prefix": "del ",
     "library": "var_list.py",
     "varRefreshCmd": "print(var_dic_list())"
    },
    "r": {
     "delete_cmd_postfix": ") ",
     "delete_cmd_prefix": "rm(",
     "library": "var_list.r",
     "varRefreshCmd": "cat(var_dic_list()) "
    }
   },
   "types_to_exclude": [
    "module",
    "function",
    "builtin_function_or_method",
    "instance",
    "_Feature"
   ],
   "window_display": false
  }
 },
 "nbformat": 4,
 "nbformat_minor": 5
}
