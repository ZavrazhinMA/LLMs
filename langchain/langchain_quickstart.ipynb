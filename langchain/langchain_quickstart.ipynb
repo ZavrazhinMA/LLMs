{
 "cells": [
  {
   "cell_type": "code",
   "execution_count": null,
   "id": "23936087",
   "metadata": {
    "ExecuteTime": {
     "end_time": "2024-04-12T10:13:08.358956Z",
     "start_time": "2024-04-12T10:13:08.358956Z"
    }
   },
   "outputs": [],
   "source": [
    "# !pip install langchain\n",
    "# !pip install langchain-openai\n",
    "# !pip install -U langchain-core langchain-mistralai"
   ]
  },
  {
   "cell_type": "code",
   "execution_count": 26,
   "id": "80bb3038",
   "metadata": {
    "ExecuteTime": {
     "end_time": "2024-04-12T10:19:41.020305Z",
     "start_time": "2024-04-12T10:19:41.017642Z"
    }
   },
   "outputs": [],
   "source": [
    "OPENAI_API_KEY=\"sk-\""
   ]
  },
  {
   "cell_type": "code",
   "execution_count": 27,
   "id": "2bf56c77",
   "metadata": {
    "ExecuteTime": {
     "end_time": "2024-04-12T10:19:42.866609Z",
     "start_time": "2024-04-12T10:19:42.471919Z"
    }
   },
   "outputs": [],
   "source": [
    "from langchain_openai import ChatOpenAI\n",
    "\n",
    "llm = ChatOpenAI(api_key=OPENAI_API_KEY)"
   ]
  },
  {
   "cell_type": "code",
   "execution_count": 29,
   "id": "e8747de9",
   "metadata": {
    "ExecuteTime": {
     "end_time": "2024-04-12T10:20:04.754406Z",
     "start_time": "2024-04-12T10:20:04.752257Z"
    }
   },
   "outputs": [],
   "source": [
    "llm.invoke(\"how can langsmith help with testing?\") # Обращение к llm"
   ]
  },
  {
   "cell_type": "code",
   "execution_count": 30,
   "id": "cef10f70",
   "metadata": {
    "ExecuteTime": {
     "end_time": "2024-04-12T10:22:46.256284Z",
     "start_time": "2024-04-12T10:22:46.190929Z"
    }
   },
   "outputs": [],
   "source": [
    "from langchain_core.prompts import ChatPromptTemplate # обращение к llm с использованием подстказок\n",
    "prompt = ChatPromptTemplate.from_messages([\n",
    "    (\"system\", \"You are world class technical documentation writer.\"),\n",
    "    (\"user\", \"{input}\")\n",
    "])"
   ]
  },
  {
   "cell_type": "code",
   "execution_count": 31,
   "id": "6462e0cd",
   "metadata": {
    "ExecuteTime": {
     "end_time": "2024-04-12T10:23:45.458557Z",
     "start_time": "2024-04-12T10:23:45.455006Z"
    }
   },
   "outputs": [],
   "source": [
    "chain = prompt | llm # создание цепочки обработки"
   ]
  },
  {
   "cell_type": "code",
   "execution_count": 33,
   "id": "d5a74c1a",
   "metadata": {
    "ExecuteTime": {
     "end_time": "2024-04-12T10:25:13.745740Z",
     "start_time": "2024-04-12T10:25:13.743655Z"
    }
   },
   "outputs": [],
   "source": [
    "chain.invoke({\"input\": \"how can langsmith help with testing?\"})"
   ]
  },
  {
   "cell_type": "markdown",
   "id": "1b3885e0",
   "metadata": {},
   "source": [
    "==================================="
   ]
  },
  {
   "cell_type": "code",
   "execution_count": 36,
   "id": "082b99b9",
   "metadata": {
    "ExecuteTime": {
     "end_time": "2024-04-12T12:22:02.794754Z",
     "start_time": "2024-04-12T12:22:02.044585Z"
    }
   },
   "outputs": [],
   "source": [
    "from langchain_openai import ChatOpenAI\n",
    "from langchain_openai import OpenAI\n",
    "\n",
    "llm = OpenAI(api_key=OPENAI_API_KEY)\n",
    "chat_model = ChatOpenAI(model=\"gpt-3.5-turbo-0125\", api_key=OPENAI_API_KEY)"
   ]
  },
  {
   "cell_type": "code",
   "execution_count": null,
   "id": "b0ef3df2",
   "metadata": {},
   "outputs": [],
   "source": [
    "from langchain_core.messages import HumanMessage\n",
    "\n",
    "text = \"What would be a good company name for a company that makes colorful socks?\"\n",
    "messages = [HumanMessage(content=text)]\n",
    "\n",
    "llm.invoke(text)  # >> Feetful of Fun\n",
    "\n",
    "chat_model.invoke(messages)  # >> AIMessage(content=\"Socks O'Color\")"
   ]
  },
  {
   "cell_type": "code",
   "execution_count": 37,
   "id": "cae7b315",
   "metadata": {
    "ExecuteTime": {
     "end_time": "2024-04-12T12:47:10.436365Z",
     "start_time": "2024-04-12T12:47:10.419005Z"
    }
   },
   "outputs": [
    {
     "data": {
      "text/plain": [
       "'What is a good name for a company that makes colorful socks?'"
      ]
     },
     "execution_count": 37,
     "metadata": {},
     "output_type": "execute_result"
    }
   ],
   "source": [
    "from langchain.prompts import PromptTemplate\n",
    "\n",
    "prompt = PromptTemplate.from_template(\"What is a good name for a company that makes {product}?\")\n",
    "prompt.format(product=\"colorful socks\")"
   ]
  },
  {
   "cell_type": "code",
   "execution_count": 38,
   "id": "74bfb2df",
   "metadata": {
    "ExecuteTime": {
     "end_time": "2024-04-12T12:53:59.355703Z",
     "start_time": "2024-04-12T12:53:59.345777Z"
    }
   },
   "outputs": [
    {
     "data": {
      "text/plain": [
       "[SystemMessage(content='You are a helpful assistant that translates English to French.'),\n",
       " HumanMessage(content='I love programming.')]"
      ]
     },
     "execution_count": 38,
     "metadata": {},
     "output_type": "execute_result"
    }
   ],
   "source": [
    "from langchain.prompts.chat import ChatPromptTemplate\n",
    "\n",
    "template = \"You are a helpful assistant that translates {input_language} to {output_language}.\"\n",
    "human_template = \"{text}\"\n",
    "\n",
    "chat_prompt = ChatPromptTemplate.from_messages([\n",
    "    (\"system\", template),\n",
    "    (\"human\", human_template),\n",
    "])\n",
    "\n",
    "chat_prompt.format_messages(input_language=\"English\", output_language=\"French\", text=\"I love programming.\")"
   ]
  },
  {
   "cell_type": "code",
   "execution_count": 41,
   "id": "0477e19c",
   "metadata": {
    "ExecuteTime": {
     "end_time": "2024-04-12T14:57:40.984146Z",
     "start_time": "2024-04-12T14:57:40.981850Z"
    }
   },
   "outputs": [],
   "source": [
    "template = \"Generate a list of 5 {text}.\\n\\n{format_instructions}\"\n",
    "\n",
    "chat_prompt = ChatPromptTemplate.from_template(template)\n",
    "chat_prompt = chat_prompt.partial(format_instructions=output_parser.get_format_instructions())\n",
    "chain = chat_prompt | chat_model | output_parser\n",
    "chain.invoke({\"text\": \"colors\"})\n",
    "# >> ['red', 'blue', 'green', 'yellow', 'orange']"
   ]
  },
  {
   "cell_type": "code",
   "execution_count": null,
   "id": "cd79235e",
   "metadata": {},
   "outputs": [],
   "source": []
  }
 ],
 "metadata": {
  "kernelspec": {
   "display_name": "Python 3 (ipykernel)",
   "language": "python",
   "name": "python3"
  },
  "language_info": {
   "codemirror_mode": {
    "name": "ipython",
    "version": 3
   },
   "file_extension": ".py",
   "mimetype": "text/x-python",
   "name": "python",
   "nbconvert_exporter": "python",
   "pygments_lexer": "ipython3",
   "version": "3.11.5"
  },
  "toc": {
   "base_numbering": 1,
   "nav_menu": {},
   "number_sections": true,
   "sideBar": true,
   "skip_h1_title": false,
   "title_cell": "Table of Contents",
   "title_sidebar": "Contents",
   "toc_cell": false,
   "toc_position": {},
   "toc_section_display": true,
   "toc_window_display": false
  },
  "varInspector": {
   "cols": {
    "lenName": 16,
    "lenType": 16,
    "lenVar": 40
   },
   "kernels_config": {
    "python": {
     "delete_cmd_postfix": "",
     "delete_cmd_prefix": "del ",
     "library": "var_list.py",
     "varRefreshCmd": "print(var_dic_list())"
    },
    "r": {
     "delete_cmd_postfix": ") ",
     "delete_cmd_prefix": "rm(",
     "library": "var_list.r",
     "varRefreshCmd": "cat(var_dic_list()) "
    }
   },
   "types_to_exclude": [
    "module",
    "function",
    "builtin_function_or_method",
    "instance",
    "_Feature"
   ],
   "window_display": false
  }
 },
 "nbformat": 4,
 "nbformat_minor": 5
}
